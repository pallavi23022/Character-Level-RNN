{
 "cells": [
  {
   "cell_type": "markdown",
   "metadata": {},
   "source": [
    "# Character-Level LSTM in PyTorch\n",
    "\n",
    "In this notebook, I'll construct a character-level LSTM with PyTorch. The network will train character by character on some text, then generate new text character by character. As an example, I will train on Anna Karenina. **This model will be able to generate new text based on the text from the book!**\n",
    "\n",
    "This network is based off of Andrej Karpathy's [post on RNNs](http://karpathy.github.io/2015/05/21/rnn-effectiveness/) and [implementation in Torch](https://github.com/karpathy/char-rnn). Below is the general architecture of the character-wise RNN.\n",
    "\n",
    "<img src=\"assets/charseq.jpeg\" width=\"500\">"
   ]
  },
  {
   "cell_type": "markdown",
   "metadata": {},
   "source": [
    "First let's load in our required resources for data loading and model creation."
   ]
  },
  {
   "cell_type": "code",
   "execution_count": 1,
   "metadata": {},
   "outputs": [],
   "source": [
    "import numpy as np\n",
    "import torch\n",
    "from torch import nn\n",
    "import torch.nn.functional as F"
   ]
  },
  {
   "cell_type": "markdown",
   "metadata": {},
   "source": [
    "## Load in Data\n",
    "\n",
    "Then, we'll load the Anna Karenina text file and convert it into integers for our network to use. "
   ]
  },
  {
   "cell_type": "code",
   "execution_count": 2,
   "metadata": {},
   "outputs": [],
   "source": [
    "# open text file and read in data as `text`\n",
    "with open('data/anna.txt', 'r') as f:\n",
    "    text = f.read()"
   ]
  },
  {
   "cell_type": "markdown",
   "metadata": {},
   "source": [
    "Let's check out the first 100 characters, make sure everything is peachy. According to the [American Book Review](http://americanbookreview.org/100bestlines.asp), this is the 6th best first line of a book ever."
   ]
  },
  {
   "cell_type": "code",
   "execution_count": 3,
   "metadata": {},
   "outputs": [
    {
     "data": {
      "text/plain": [
       "'Chapter 1\\n\\n\\nHappy families are all alike; every unhappy family is unhappy in its own\\nway.\\n\\nEverythin'"
      ]
     },
     "execution_count": 3,
     "metadata": {},
     "output_type": "execute_result"
    }
   ],
   "source": [
    "text[:100]"
   ]
  },
  {
   "cell_type": "markdown",
   "metadata": {},
   "source": [
    "### Tokenization\n",
    "\n",
    "In the cells, below, I'm creating a couple **dictionaries** to convert the characters to and from integers. Encoding the characters as integers makes it easier to use as input in the network."
   ]
  },
  {
   "cell_type": "code",
   "execution_count": 4,
   "metadata": {},
   "outputs": [
    {
     "name": "stdout",
     "output_type": "stream",
     "text": [
      "('C', 'f', 'Z', 'U', 'H', 'a', 'g', ';', 'n', '$', 'j', 'L', '!', \"'\", 'h', 's', 'd', '.', '&', '9', 'R', 'r', 'O', '2', '_', '-', 'E', 'F', '7', 'w', 'b', 'm', 'e', 'c', 'S', 'M', 'P', '1', 'y', 'X', '3', '*', '0', 'l', 'I', 'J', '%', '\\n', '?', 'k', '4', 'Q', 'D', 'G', 'p', 'v', 'z', 'i', 'B', ',', '\"', 'W', 'Y', ')', '/', 'A', '6', '5', 'T', 'K', '`', '8', 'u', 'q', ' ', 't', 'N', '(', ':', 'x', 'V', '@', 'o')\n",
      "83\n",
      "**************************************************************\n",
      "{0: 'C', 1: 'f', 2: 'Z', 3: 'U', 4: 'H', 5: 'a', 6: 'g', 7: ';', 8: 'n', 9: '$', 10: 'j', 11: 'L', 12: '!', 13: \"'\", 14: 'h', 15: 's', 16: 'd', 17: '.', 18: '&', 19: '9', 20: 'R', 21: 'r', 22: 'O', 23: '2', 24: '_', 25: '-', 26: 'E', 27: 'F', 28: '7', 29: 'w', 30: 'b', 31: 'm', 32: 'e', 33: 'c', 34: 'S', 35: 'M', 36: 'P', 37: '1', 38: 'y', 39: 'X', 40: '3', 41: '*', 42: '0', 43: 'l', 44: 'I', 45: 'J', 46: '%', 47: '\\n', 48: '?', 49: 'k', 50: '4', 51: 'Q', 52: 'D', 53: 'G', 54: 'p', 55: 'v', 56: 'z', 57: 'i', 58: 'B', 59: ',', 60: '\"', 61: 'W', 62: 'Y', 63: ')', 64: '/', 65: 'A', 66: '6', 67: '5', 68: 'T', 69: 'K', 70: '`', 71: '8', 72: 'u', 73: 'q', 74: ' ', 75: 't', 76: 'N', 77: '(', 78: ':', 79: 'x', 80: 'V', 81: '@', 82: 'o'}\n",
      "**************************************************************\n",
      "{'C': 0, 'f': 1, 'Z': 2, 'U': 3, 'H': 4, 'a': 5, 'g': 6, ';': 7, 'n': 8, '$': 9, 'j': 10, 'L': 11, '!': 12, \"'\": 13, 'h': 14, 's': 15, 'd': 16, '.': 17, '&': 18, '9': 19, 'R': 20, 'r': 21, 'O': 22, '2': 23, '_': 24, '-': 25, 'E': 26, 'F': 27, '7': 28, 'w': 29, 'b': 30, 'm': 31, 'e': 32, 'c': 33, 'S': 34, 'M': 35, 'P': 36, '1': 37, 'y': 38, 'X': 39, '3': 40, '*': 41, '0': 42, 'l': 43, 'I': 44, 'J': 45, '%': 46, '\\n': 47, '?': 48, 'k': 49, '4': 50, 'Q': 51, 'D': 52, 'G': 53, 'p': 54, 'v': 55, 'z': 56, 'i': 57, 'B': 58, ',': 59, '\"': 60, 'W': 61, 'Y': 62, ')': 63, '/': 64, 'A': 65, '6': 66, '5': 67, 'T': 68, 'K': 69, '`': 70, '8': 71, 'u': 72, 'q': 73, ' ': 74, 't': 75, 'N': 76, '(': 77, ':': 78, 'x': 79, 'V': 80, '@': 81, 'o': 82}\n"
     ]
    }
   ],
   "source": [
    "# encode the text and map each character to an integer and vice versa\n",
    "\n",
    "# we create two dictionaries:\n",
    "# 1. int2char, which maps integers to characters\n",
    "# 2. char2int, which maps characters to unique integers\n",
    "chars = tuple(set(text))\n",
    "print(chars)\n",
    "print(len(chars))\n",
    "print('**************************************************************')\n",
    "int2char = dict(enumerate(chars))\n",
    "print(int2char)\n",
    "print('**************************************************************')\n",
    "\n",
    "char2int = {ch: ii for ii, ch in int2char.items()}\n",
    "print(char2int)\n",
    "\n",
    "# encode the text\n",
    "encoded = np.array([char2int[ch] for ch in text])"
   ]
  },
  {
   "cell_type": "markdown",
   "metadata": {},
   "source": [
    "And we can see those same characters from above, encoded as integers."
   ]
  },
  {
   "cell_type": "code",
   "execution_count": 5,
   "metadata": {},
   "outputs": [
    {
     "data": {
      "text/plain": [
       "array([ 0, 14,  5, 54, 75, 32, 21, 74, 37, 47, 47, 47,  4,  5, 54, 54, 38,\n",
       "       74,  1,  5, 31, 57, 43, 57, 32, 15, 74,  5, 21, 32, 74,  5, 43, 43,\n",
       "       74,  5, 43, 57, 49, 32,  7, 74, 32, 55, 32, 21, 38, 74, 72,  8, 14,\n",
       "        5, 54, 54, 38, 74,  1,  5, 31, 57, 43, 38, 74, 57, 15, 74, 72,  8,\n",
       "       14,  5, 54, 54, 38, 74, 57,  8, 74, 57, 75, 15, 74, 82, 29,  8, 47,\n",
       "       29,  5, 38, 17, 47, 47, 26, 55, 32, 21, 38, 75, 14, 57,  8])"
      ]
     },
     "execution_count": 5,
     "metadata": {},
     "output_type": "execute_result"
    }
   ],
   "source": [
    "encoded[:100]"
   ]
  },
  {
   "cell_type": "markdown",
   "metadata": {},
   "source": [
    "## Pre-processing the data\n",
    "\n",
    "As you can see in our char-RNN image above, our LSTM expects an input that is **one-hot encoded** meaning that each character is converted into an integer (via our created dictionary) and *then* converted into a column vector where only it's corresponding integer index will have the value of 1 and the rest of the vector will be filled with 0's. Since we're one-hot encoding the data, let's make a function to do that!\n"
   ]
  },
  {
   "cell_type": "code",
   "execution_count": 22,
   "metadata": {},
   "outputs": [],
   "source": [
    "def one_hot_encode(arr, n_labels):\n",
    "    \n",
    "    # Initialize the the encoded array\n",
    "    one_hot = np.zeros((arr.size, n_labels), dtype=np.float32)\n",
    "    #print(one_hot)\n",
    "    #print(one_hot.shape[0])\n",
    "    #print('**************************************************************')\n",
    "    # Fill the appropriate elements with ones\n",
    "    #print(np.arange(one_hot.shape[0]))\n",
    "    one_hot[ np.arange(one_hot.shape[0]) , arr.flatten()] = 1.\n",
    "    #print(one_hot)\n",
    "    #print('********************3******************[3,5,1]************************')\n",
    "    # Finally reshape it to get back to the original array\n",
    "    #print(*arr.shape)#contains 1 3 whrw 1 is dimension and 3 is no. of rows\n",
    "    one_hot = one_hot.reshape((*arr.shape, n_labels))\n",
    "    #print(one_hot.shape)\n",
    "    return one_hot"
   ]
  },
  {
   "cell_type": "code",
   "execution_count": 23,
   "metadata": {},
   "outputs": [
    {
     "name": "stdout",
     "output_type": "stream",
     "text": [
      "[[[0. 0. 0. 1. 0. 0. 0. 0.]\n",
      "  [0. 0. 0. 0. 0. 1. 0. 0.]\n",
      "  [0. 1. 0. 0. 0. 0. 0. 0.]]]\n"
     ]
    }
   ],
   "source": [
    "# check that the function works as expected\n",
    "test_seq = np.array([[3, 5, 1]])\n",
    "\n",
    "one_hot = one_hot_encode(test_seq, 8)\n",
    "\n",
    "print(one_hot)"
   ]
  },
  {
   "cell_type": "markdown",
   "metadata": {},
   "source": [
    "## Making training mini-batches\n",
    "\n",
    "\n",
    "To train on this data, we also want to create mini-batches for training. Remember that we want our batches to be multiple sequences of some desired number of sequence steps. Considering a simple example, our batches would look like this:\n",
    "\n",
    "<img src=\"assets/sequence_batching@1x.png\" width=500px>\n",
    "\n",
    "\n",
    "<br>\n",
    "\n",
    "In this example, we'll take the encoded characters (passed in as the `arr` parameter) and split them into multiple sequences, given by `batch_size`. Each of our sequences will be `seq_length` long.\n",
    "\n",
    "### Creating Batches\n",
    "\n",
    "**1. The first thing we need to do is discard some of the text so we only have completely full mini-batches. **\n",
    "\n",
    "Each batch contains $N \\times M$ characters, where $N$ is the batch size (the number of sequences in a batch) and $M$ is the seq_length or number of time steps in a sequence. Then, to get the total number of batches, $K$, that we can make from the array `arr`, you divide the length of `arr` by the number of characters per batch. Once you know the number of batches, you can get the total number of characters to keep from `arr`, $N * M * K$.\n",
    "\n",
    "**2. After that, we need to split `arr` into $N$ batches. ** \n",
    "\n",
    "You can do this using `arr.reshape(size)` where `size` is a tuple containing the dimensions sizes of the reshaped array. We know we want $N$ sequences in a batch, so let's make that the size of the first dimension. For the second dimension, you can use `-1` as a placeholder in the size, it'll fill up the array with the appropriate data for you. After this, you should have an array that is $N \\times (M * K)$.\n",
    "\n",
    "**3. Now that we have this array, we can iterate through it to get our mini-batches. **\n",
    "\n",
    "The idea is each batch is a $N \\times M$ window on the $N \\times (M * K)$ array. For each subsequent batch, the window moves over by `seq_length`. We also want to create both the input and target arrays. Remember that the targets are just the inputs shifted over by one character. The way I like to do this window is use `range` to take steps of size `n_steps` from $0$ to `arr.shape[1]`, the total number of tokens in each sequence. That way, the integers you get from `range` always point to the start of a batch, and each window is `seq_length` wide.\n",
    "\n",
    "> **TODO:** Write the code for creating batches in the function below. The exercises in this notebook _will not be easy_. I've provided a notebook with solutions alongside this notebook. If you get stuck, checkout the solutions. The most important thing is that you don't copy and paste the code into here, **type out the solution code yourself.**"
   ]
  },
  {
   "cell_type": "code",
   "execution_count": 31,
   "metadata": {},
   "outputs": [],
   "source": [
    "def get_batches(arr, batch_size, seq_length):\n",
    "    '''Create a generator that returns batches of size\n",
    "       batch_size x seq_length from arr.\n",
    "       \n",
    "       Arguments\n",
    "       ---------\n",
    "       arr: Array you want to make batches from\n",
    "       batch_size: Batch size, the number of sequences per batch\n",
    "       seq_length: Number of encoded chars in a sequence\n",
    "    '''\n",
    "    #8#50\n",
    "    #there are 8 batches as we have taken batch size=8\n",
    "    ## TODO: Get the number of batches we can make\n",
    "    arr_len=len(arr)# 1985223\n",
    "    chars_mini_batch=batch_size*seq_length #8*50 #per batch number of elements\n",
    "    \n",
    "    \n",
    "    n_batches = arr_len//chars_mini_batch # number of batches\n",
    "    \n",
    "    ## TODO: Keep only enough characters to make full batches\n",
    "    arr = arr[:n_batches*chars_mini_batch]#len of this new arr will be  1985220\n",
    "    \n",
    "    ## TODO: Reshape into batch_size rows\n",
    "    arr = arr.reshape(batch_size,-1) #shape=(8,248150)\n",
    "    \n",
    "    \n",
    "    ## TODO: Iterate over the batches using a window of size seq_length\n",
    "    \n",
    "    for n in range(0, arr.shape[1], seq_length):#0 se 248150 tk chlega with the jump=seq_length\n",
    "        # The features\n",
    "        x = arr[:,n:n+seq_length]\n",
    "        # The targets, shifted by one\n",
    "        y = np.zeros_like(x)\n",
    "        try :\n",
    "            y[:,:-1],y[:,-1]=x[:,1:],x[:,n+seq_length]\n",
    "        except IndexError:\n",
    "            y[:, :-1], y[:, -1] = x[:, 1:], arr[:, 0]\n",
    "        yield x, y"
   ]
  },
  {
   "cell_type": "markdown",
   "metadata": {},
   "source": [
    "### Test Your Implementation\n",
    "\n",
    "Now I'll make some data sets and we can check out what's going on as we batch data. Here, as an example, I'm going to use a batch size of 8 and 50 sequence steps."
   ]
  },
  {
   "cell_type": "code",
   "execution_count": 32,
   "metadata": {},
   "outputs": [],
   "source": [
    "batches = get_batches(encoded, 8, 50)\n",
    "x, y = next(batches)"
   ]
  },
  {
   "cell_type": "code",
   "execution_count": 33,
   "metadata": {},
   "outputs": [
    {
     "name": "stdout",
     "output_type": "stream",
     "text": [
      "x\n",
      " [[ 0 14  5 54 75 32 21 74 37 47]\n",
      " [15 82  8 74 75 14  5 75 74  5]\n",
      " [32  8 16 74 82 21 74  5 74  1]\n",
      " [15 74 75 14 32 74 33 14 57 32]\n",
      " [74 15  5 29 74 14 32 21 74 75]\n",
      " [33 72 15 15 57 82  8 74  5  8]\n",
      " [74 65  8  8  5 74 14  5 16 74]\n",
      " [22 30 43 82  8 15 49 38 17 74]]\n",
      "\n",
      "y\n",
      " [[14  5 54 75 32 21 74 37 47 47]\n",
      " [82  8 74 75 14  5 75 74  5 75]\n",
      " [ 8 16 74 82 21 74  5 74  1 82]\n",
      " [74 75 14 32 74 33 14 57 32  1]\n",
      " [15  5 29 74 14 32 21 74 75 32]\n",
      " [72 15 15 57 82  8 74  5  8 16]\n",
      " [65  8  8  5 74 14  5 16 74 15]\n",
      " [30 43 82  8 15 49 38 17 74 60]]\n"
     ]
    }
   ],
   "source": [
    "# printing out the first 10 items in a sequence\n",
    "print('x\\n', x[:10, :10])\n",
    "print('\\ny\\n', y[:10, :10])"
   ]
  },
  {
   "cell_type": "markdown",
   "metadata": {},
   "source": [
    "If you implemented `get_batches` correctly, the above output should look something like \n",
    "```\n",
    "x\n",
    " [[25  8 60 11 45 27 28 73  1  2]\n",
    " [17  7 20 73 45  8 60 45 73 60]\n",
    " [27 20 80 73  7 28 73 60 73 65]\n",
    " [17 73 45  8 27 73 66  8 46 27]\n",
    " [73 17 60 12 73  8 27 28 73 45]\n",
    " [66 64 17 17 46  7 20 73 60 20]\n",
    " [73 76 20 20 60 73  8 60 80 73]\n",
    " [47 35 43  7 20 17 24 50 37 73]]\n",
    "\n",
    "y\n",
    " [[ 8 60 11 45 27 28 73  1  2  2]\n",
    " [ 7 20 73 45  8 60 45 73 60 45]\n",
    " [20 80 73  7 28 73 60 73 65  7]\n",
    " [73 45  8 27 73 66  8 46 27 65]\n",
    " [17 60 12 73  8 27 28 73 45 27]\n",
    " [64 17 17 46  7 20 73 60 20 80]\n",
    " [76 20 20 60 73  8 60 80 73 17]\n",
    " [35 43  7 20 17 24 50 37 73 36]]\n",
    " ```\n",
    " although the exact numbers may be different. Check to make sure the data is shifted over one step for `y`."
   ]
  },
  {
   "cell_type": "markdown",
   "metadata": {},
   "source": [
    "---\n",
    "## Defining the network with PyTorch\n",
    "\n",
    "Below is where you'll define the network.\n",
    "\n",
    "<img src=\"assets/charRNN.png\" width=500px>\n",
    "\n",
    "Next, you'll use PyTorch to define the architecture of the network. We start by defining the layers and operations we want. Then, define a method for the forward pass. You've also been given a method for predicting characters."
   ]
  },
  {
   "cell_type": "markdown",
   "metadata": {},
   "source": [
    "### Model Structure\n",
    "\n",
    "In `__init__` the suggested structure is as follows:\n",
    "* Create and store the necessary dictionaries (this has been done for you)\n",
    "* Define an LSTM layer that takes as params: an input size (the number of characters), a hidden layer size `n_hidden`, a number of layers `n_layers`, a dropout probability `drop_prob`, and a batch_first boolean (True, since we are batching)\n",
    "* Define a dropout layer with `drop_prob`\n",
    "* Define a fully-connected layer with params: input size `n_hidden` and output size (the number of characters)\n",
    "* Finally, initialize the weights (again, this has been given)\n",
    "\n",
    "Note that some parameters have been named and given in the `__init__` function, and we use them and store them by doing something like `self.drop_prob = drop_prob`."
   ]
  },
  {
   "cell_type": "markdown",
   "metadata": {},
   "source": [
    "---\n",
    "### LSTM Inputs/Outputs\n",
    "\n",
    "You can create a basic [LSTM layer](https://pytorch.org/docs/stable/nn.html#lstm) as follows\n",
    "\n",
    "```python\n",
    "self.lstm = nn.LSTM(input_size, n_hidden, n_layers, \n",
    "                            dropout=drop_prob, batch_first=True)\n",
    "```\n",
    "\n",
    "where `input_size` is the number of characters this cell expects to see as sequential input, and `n_hidden` is the number of units in the hidden layers in the cell. And we can add dropout by adding a dropout parameter with a specified probability; this will automatically add dropout to the inputs or outputs. Finally, in the `forward` function, we can stack up the LSTM cells into layers using `.view`. With this, you pass in a list of cells and it will send the output of one cell into the next cell.\n",
    "\n",
    "We also need to create an initial hidden state of all zeros. This is done like so\n",
    "\n",
    "```python\n",
    "self.init_hidden()\n",
    "```"
   ]
  },
  {
   "cell_type": "code",
   "execution_count": 34,
   "metadata": {},
   "outputs": [
    {
     "name": "stdout",
     "output_type": "stream",
     "text": [
      "Training on GPU!\n"
     ]
    }
   ],
   "source": [
    "# check if GPU is available\n",
    "train_on_gpu = torch.cuda.is_available()\n",
    "if(train_on_gpu):\n",
    "    print('Training on GPU!')\n",
    "else: \n",
    "    print('No GPU available, training on CPU; consider making n_epochs very small.')"
   ]
  },
  {
   "cell_type": "code",
   "execution_count": 35,
   "metadata": {},
   "outputs": [],
   "source": [
    "class CharRNN(nn.Module):\n",
    "    \n",
    "    def __init__(self, tokens, n_hidden=256, n_layers=2,\n",
    "                               drop_prob=0.5, lr=0.001):\n",
    "        super().__init__()\n",
    "        self.drop_prob = drop_prob\n",
    "        self.n_layers = n_layers\n",
    "        self.n_hidden = n_hidden\n",
    "        self.lr = lr\n",
    "        \n",
    "        # creating character dictionaries\n",
    "        self.chars = tokens\n",
    "        self.int2char = dict(enumerate(self.chars))\n",
    "        self.char2int = {ch: ii for ii, ch in self.int2char.items()}\n",
    "        \n",
    "        ## TODO: define the layers of the model\n",
    "        \n",
    "        self.lstm = nn.LSTM(len(self.chars), n_hidden, n_layers, \n",
    "                            dropout=drop_prob, batch_first=True)\n",
    "        self.dropout=nn.Dropout(drop_prob)\n",
    "        self.fc=nn.Linear(n_hidden,len(self.chars))\n",
    "        \n",
    "        \n",
    "      \n",
    "    \n",
    "    def forward(self, x, hidden):\n",
    "        ''' Forward pass through the network. \n",
    "            These inputs are x, and the hidden/cell state `hidden`. '''\n",
    "                \n",
    "        ## TODO: Get the outputs and the new hidden state from the lstm\n",
    "        r_out,hidden=self.lstm(x,hidden)\n",
    "        self.dropout(r_out)\n",
    "        \n",
    "        #reshaping the output if we are using stacked layers of LSTM\n",
    "        out = r_out.contiguous().view(-1, self.n_hidden)\n",
    "        \n",
    "        out=self.fc(out)\n",
    "        # return the final output and the hidden state\n",
    "        return out, hidden\n",
    "    \n",
    "    \n",
    "    def init_hidden(self, batch_size):\n",
    "        ''' Initializes hidden state '''\n",
    "        # Create two new tensors with sizes n_layers x batch_size x n_hidden,\n",
    "        # initialized to zero, for hidden state and cell state of LSTM\n",
    "        weight = next(self.parameters()).data\n",
    "        \n",
    "        if (train_on_gpu):\n",
    "            hidden = (weight.new(self.n_layers, batch_size, self.n_hidden).zero_().cuda(),\n",
    "                  weight.new(self.n_layers, batch_size, self.n_hidden).zero_().cuda())\n",
    "        else:\n",
    "            hidden = (weight.new(self.n_layers, batch_size, self.n_hidden).zero_(),\n",
    "                      weight.new(self.n_layers, batch_size, self.n_hidden).zero_())\n",
    "        \n",
    "        return hidden\n",
    "        "
   ]
  },
  {
   "cell_type": "markdown",
   "metadata": {},
   "source": [
    "## Time to train\n",
    "\n",
    "The train function gives us the ability to set the number of epochs, the learning rate, and other parameters.\n",
    "\n",
    "Below we're using an Adam optimizer and cross entropy loss since we are looking at character class scores as output. We calculate the loss and perform backpropagation, as usual!\n",
    "\n",
    "A couple of details about training: \n",
    ">* Within the batch loop, we detach the hidden state from its history; this time setting it equal to a new *tuple* variable because an LSTM has a hidden state that is a tuple of the hidden and cell states.\n",
    "* We use [`clip_grad_norm_`](https://pytorch.org/docs/stable/_modules/torch/nn/utils/clip_grad.html) to help prevent exploding gradients."
   ]
  },
  {
   "cell_type": "code",
   "execution_count": 36,
   "metadata": {},
   "outputs": [],
   "source": [
    "def train(net, data, epochs=10, batch_size=10, seq_length=50, lr=0.001, clip=5, val_frac=0.1, print_every=10):\n",
    "    ''' Training a network \n",
    "    \n",
    "        Arguments\n",
    "        ---------\n",
    "        \n",
    "        net: CharRNN network\n",
    "        data: text data to train the network\n",
    "        epochs: Number of epochs to train\n",
    "        batch_size: Number of mini-sequences per mini-batch, aka batch size\n",
    "        seq_length: Number of character steps per mini-batch\n",
    "        lr: learning rate\n",
    "        clip: gradient clipping\n",
    "        val_frac: Fraction of data to hold out for validation\n",
    "        print_every: Number of steps for printing training and validation loss\n",
    "    \n",
    "    '''\n",
    "    net.train()\n",
    "    \n",
    "    opt = torch.optim.Adam(net.parameters(), lr=lr)\n",
    "    criterion = nn.CrossEntropyLoss()\n",
    "    \n",
    "    # create training and validation data\n",
    "    val_idx = int(len(data)*(1-val_frac))\n",
    "    data, val_data = data[:val_idx], data[val_idx:]\n",
    "    \n",
    "    if(train_on_gpu):\n",
    "        net.cuda()\n",
    "    \n",
    "    counter = 0\n",
    "    n_chars = len(net.chars)\n",
    "    for e in range(epochs):\n",
    "        # initialize hidden state\n",
    "        h = net.init_hidden(batch_size)\n",
    "        \n",
    "        for x, y in get_batches(data, batch_size, seq_length):\n",
    "            counter += 1\n",
    "            \n",
    "            # One-hot encode our data and make them Torch tensors\n",
    "            x = one_hot_encode(x, n_chars)\n",
    "            inputs, targets = torch.from_numpy(x), torch.from_numpy(y)\n",
    "            \n",
    "            if(train_on_gpu):\n",
    "                inputs, targets = inputs.cuda(), targets.cuda()\n",
    "\n",
    "            # Creating new variables for the hidden state, otherwise\n",
    "            # we'd backprop through the entire training history\n",
    "            h = tuple([each.data for each in h])\n",
    "\n",
    "            # zero accumulated gradients\n",
    "            net.zero_grad()\n",
    "            \n",
    "            # get the output from the model\n",
    "            output, h = net(inputs, h)\n",
    "            \n",
    "            # calculate the loss and perform backprop\n",
    "            loss = criterion(output, targets.view(batch_size*seq_length).long())\n",
    "            loss.backward()\n",
    "            # `clip_grad_norm` helps prevent the exploding gradient problem in RNNs / LSTMs.\n",
    "            nn.utils.clip_grad_norm_(net.parameters(), clip)\n",
    "            opt.step()\n",
    "            \n",
    "            # loss stats\n",
    "            if counter % print_every == 0:\n",
    "                # Get validation loss\n",
    "                val_h = net.init_hidden(batch_size)\n",
    "                val_losses = []\n",
    "                net.eval()\n",
    "                for x, y in get_batches(val_data, batch_size, seq_length):\n",
    "                    # One-hot encode our data and make them Torch tensors\n",
    "                    x = one_hot_encode(x, n_chars)\n",
    "                    x, y = torch.from_numpy(x), torch.from_numpy(y)\n",
    "                    \n",
    "                    # Creating new variables for the hidden state, otherwise\n",
    "                    # we'd backprop through the entire training history\n",
    "                    val_h = tuple([each.data for each in val_h])\n",
    "                    \n",
    "                    inputs, targets = x, y\n",
    "                    if(train_on_gpu):\n",
    "                        inputs, targets = inputs.cuda(), targets.cuda()\n",
    "\n",
    "                    output, val_h = net(inputs, val_h)\n",
    "                    val_loss = criterion(output, targets.view(batch_size*seq_length).long())\n",
    "                \n",
    "                    val_losses.append(val_loss.item())\n",
    "                \n",
    "                net.train() # reset to train mode after iterationg through validation data\n",
    "                \n",
    "                print(\"Epoch: {}/{}...\".format(e+1, epochs),\n",
    "                      \"Step: {}...\".format(counter),\n",
    "                      \"Loss: {:.4f}...\".format(loss.item()),\n",
    "                      \"Val Loss: {:.4f}\".format(np.mean(val_losses)))"
   ]
  },
  {
   "cell_type": "markdown",
   "metadata": {},
   "source": [
    "## Instantiating the model\n",
    "\n",
    "Now we can actually train the network. First we'll create the network itself, with some given hyperparameters. Then, define the mini-batches sizes, and start training!"
   ]
  },
  {
   "cell_type": "code",
   "execution_count": 37,
   "metadata": {},
   "outputs": [
    {
     "name": "stdout",
     "output_type": "stream",
     "text": [
      "CharRNN(\n",
      "  (lstm): LSTM(83, 512, num_layers=2, batch_first=True, dropout=0.5)\n",
      "  (dropout): Dropout(p=0.5, inplace=False)\n",
      "  (fc): Linear(in_features=512, out_features=83, bias=True)\n",
      ")\n"
     ]
    }
   ],
   "source": [
    "## TODO: set your model hyperparameters\n",
    "# define and print the net\n",
    "n_hidden= 512\n",
    "n_layers= 2\n",
    "\n",
    "net = CharRNN(chars, n_hidden, n_layers)\n",
    "print(net)"
   ]
  },
  {
   "cell_type": "markdown",
   "metadata": {},
   "source": [
    "### Set your training hyperparameters!"
   ]
  },
  {
   "cell_type": "code",
   "execution_count": 38,
   "metadata": {
    "scrolled": true
   },
   "outputs": [
    {
     "name": "stdout",
     "output_type": "stream",
     "text": [
      "Epoch: 1/20... Step: 10... Loss: 3.2102... Val Loss: 3.2085\n",
      "Epoch: 1/20... Step: 20... Loss: 3.1162... Val Loss: 3.1355\n",
      "Epoch: 1/20... Step: 30... Loss: 3.1110... Val Loss: 3.1225\n",
      "Epoch: 1/20... Step: 40... Loss: 3.0900... Val Loss: 3.1208\n",
      "Epoch: 1/20... Step: 50... Loss: 3.1237... Val Loss: 3.1203\n",
      "Epoch: 1/20... Step: 60... Loss: 3.1012... Val Loss: 3.1167\n",
      "Epoch: 1/20... Step: 70... Loss: 3.0890... Val Loss: 3.1129\n",
      "Epoch: 1/20... Step: 80... Loss: 3.0993... Val Loss: 3.1008\n",
      "Epoch: 1/20... Step: 90... Loss: 3.0815... Val Loss: 3.0792\n",
      "Epoch: 1/20... Step: 100... Loss: 3.0318... Val Loss: 3.0262\n",
      "Epoch: 1/20... Step: 110... Loss: 3.0284... Val Loss: 2.9988\n",
      "Epoch: 1/20... Step: 120... Loss: 2.9176... Val Loss: 2.9252\n",
      "Epoch: 1/20... Step: 130... Loss: 2.8573... Val Loss: 2.8379\n",
      "Epoch: 2/20... Step: 140... Loss: 2.7916... Val Loss: 2.7714\n",
      "Epoch: 2/20... Step: 150... Loss: 2.7102... Val Loss: 2.6896\n",
      "Epoch: 2/20... Step: 160... Loss: 2.6093... Val Loss: 2.6043\n",
      "Epoch: 2/20... Step: 170... Loss: 2.5220... Val Loss: 2.5371\n",
      "Epoch: 2/20... Step: 180... Loss: 2.4887... Val Loss: 2.4903\n",
      "Epoch: 2/20... Step: 190... Loss: 2.4374... Val Loss: 2.4616\n",
      "Epoch: 2/20... Step: 200... Loss: 2.4256... Val Loss: 2.4246\n",
      "Epoch: 2/20... Step: 210... Loss: 2.3871... Val Loss: 2.4010\n",
      "Epoch: 2/20... Step: 220... Loss: 2.3563... Val Loss: 2.3765\n",
      "Epoch: 2/20... Step: 230... Loss: 2.3386... Val Loss: 2.3434\n",
      "Epoch: 2/20... Step: 240... Loss: 2.3293... Val Loss: 2.3184\n",
      "Epoch: 2/20... Step: 250... Loss: 2.2549... Val Loss: 2.2865\n",
      "Epoch: 2/20... Step: 260... Loss: 2.2228... Val Loss: 2.2568\n",
      "Epoch: 2/20... Step: 270... Loss: 2.2379... Val Loss: 2.2395\n",
      "Epoch: 3/20... Step: 280... Loss: 2.2233... Val Loss: 2.2152\n",
      "Epoch: 3/20... Step: 290... Loss: 2.1849... Val Loss: 2.1859\n",
      "Epoch: 3/20... Step: 300... Loss: 2.1532... Val Loss: 2.1674\n",
      "Epoch: 3/20... Step: 310... Loss: 2.1245... Val Loss: 2.1400\n",
      "Epoch: 3/20... Step: 320... Loss: 2.0929... Val Loss: 2.1203\n",
      "Epoch: 3/20... Step: 330... Loss: 2.0578... Val Loss: 2.1071\n",
      "Epoch: 3/20... Step: 340... Loss: 2.0816... Val Loss: 2.0879\n",
      "Epoch: 3/20... Step: 350... Loss: 2.0635... Val Loss: 2.0660\n",
      "Epoch: 3/20... Step: 360... Loss: 1.9850... Val Loss: 2.0500\n",
      "Epoch: 3/20... Step: 370... Loss: 2.0208... Val Loss: 2.0351\n",
      "Epoch: 3/20... Step: 380... Loss: 1.9940... Val Loss: 2.0175\n",
      "Epoch: 3/20... Step: 390... Loss: 1.9548... Val Loss: 1.9977\n",
      "Epoch: 3/20... Step: 400... Loss: 1.9382... Val Loss: 1.9838\n",
      "Epoch: 3/20... Step: 410... Loss: 1.9518... Val Loss: 1.9700\n",
      "Epoch: 4/20... Step: 420... Loss: 1.9397... Val Loss: 1.9534\n",
      "Epoch: 4/20... Step: 430... Loss: 1.9150... Val Loss: 1.9404\n",
      "Epoch: 4/20... Step: 440... Loss: 1.9032... Val Loss: 1.9268\n",
      "Epoch: 4/20... Step: 450... Loss: 1.8440... Val Loss: 1.9100\n",
      "Epoch: 4/20... Step: 460... Loss: 1.8353... Val Loss: 1.9013\n",
      "Epoch: 4/20... Step: 470... Loss: 1.8655... Val Loss: 1.8989\n",
      "Epoch: 4/20... Step: 480... Loss: 1.8538... Val Loss: 1.8850\n",
      "Epoch: 4/20... Step: 490... Loss: 1.8457... Val Loss: 1.8690\n",
      "Epoch: 4/20... Step: 500... Loss: 1.8371... Val Loss: 1.8562\n",
      "Epoch: 4/20... Step: 510... Loss: 1.8174... Val Loss: 1.8450\n",
      "Epoch: 4/20... Step: 520... Loss: 1.8249... Val Loss: 1.8348\n",
      "Epoch: 4/20... Step: 530... Loss: 1.7823... Val Loss: 1.8265\n",
      "Epoch: 4/20... Step: 540... Loss: 1.7545... Val Loss: 1.8207\n",
      "Epoch: 4/20... Step: 550... Loss: 1.7932... Val Loss: 1.8045\n",
      "Epoch: 5/20... Step: 560... Loss: 1.7564... Val Loss: 1.7980\n",
      "Epoch: 5/20... Step: 570... Loss: 1.7495... Val Loss: 1.7831\n",
      "Epoch: 5/20... Step: 580... Loss: 1.7201... Val Loss: 1.7758\n",
      "Epoch: 5/20... Step: 590... Loss: 1.7326... Val Loss: 1.7665\n",
      "Epoch: 5/20... Step: 600... Loss: 1.7034... Val Loss: 1.7628\n",
      "Epoch: 5/20... Step: 610... Loss: 1.6989... Val Loss: 1.7553\n",
      "Epoch: 5/20... Step: 620... Loss: 1.7070... Val Loss: 1.7471\n",
      "Epoch: 5/20... Step: 630... Loss: 1.7104... Val Loss: 1.7362\n",
      "Epoch: 5/20... Step: 640... Loss: 1.6858... Val Loss: 1.7305\n",
      "Epoch: 5/20... Step: 650... Loss: 1.6727... Val Loss: 1.7215\n",
      "Epoch: 5/20... Step: 660... Loss: 1.6483... Val Loss: 1.7136\n",
      "Epoch: 5/20... Step: 670... Loss: 1.6689... Val Loss: 1.7111\n",
      "Epoch: 5/20... Step: 680... Loss: 1.6644... Val Loss: 1.7015\n",
      "Epoch: 5/20... Step: 690... Loss: 1.6440... Val Loss: 1.6973\n",
      "Epoch: 6/20... Step: 700... Loss: 1.6431... Val Loss: 1.6924\n",
      "Epoch: 6/20... Step: 710... Loss: 1.6366... Val Loss: 1.6810\n",
      "Epoch: 6/20... Step: 720... Loss: 1.6164... Val Loss: 1.6724\n",
      "Epoch: 6/20... Step: 730... Loss: 1.6370... Val Loss: 1.6694\n",
      "Epoch: 6/20... Step: 740... Loss: 1.5966... Val Loss: 1.6637\n",
      "Epoch: 6/20... Step: 750... Loss: 1.5814... Val Loss: 1.6580\n",
      "Epoch: 6/20... Step: 760... Loss: 1.6209... Val Loss: 1.6570\n",
      "Epoch: 6/20... Step: 770... Loss: 1.6011... Val Loss: 1.6501\n",
      "Epoch: 6/20... Step: 780... Loss: 1.5863... Val Loss: 1.6405\n",
      "Epoch: 6/20... Step: 790... Loss: 1.5631... Val Loss: 1.6356\n",
      "Epoch: 6/20... Step: 800... Loss: 1.5856... Val Loss: 1.6366\n",
      "Epoch: 6/20... Step: 810... Loss: 1.5695... Val Loss: 1.6266\n",
      "Epoch: 6/20... Step: 820... Loss: 1.5333... Val Loss: 1.6235\n",
      "Epoch: 6/20... Step: 830... Loss: 1.5725... Val Loss: 1.6174\n",
      "Epoch: 7/20... Step: 840... Loss: 1.5313... Val Loss: 1.6150\n",
      "Epoch: 7/20... Step: 850... Loss: 1.5441... Val Loss: 1.6091\n",
      "Epoch: 7/20... Step: 860... Loss: 1.5243... Val Loss: 1.6030\n",
      "Epoch: 7/20... Step: 870... Loss: 1.5496... Val Loss: 1.6005\n",
      "Epoch: 7/20... Step: 880... Loss: 1.5451... Val Loss: 1.5954\n",
      "Epoch: 7/20... Step: 890... Loss: 1.5378... Val Loss: 1.5909\n",
      "Epoch: 7/20... Step: 900... Loss: 1.5229... Val Loss: 1.5888\n",
      "Epoch: 7/20... Step: 910... Loss: 1.4890... Val Loss: 1.5853\n",
      "Epoch: 7/20... Step: 920... Loss: 1.5187... Val Loss: 1.5773\n",
      "Epoch: 7/20... Step: 930... Loss: 1.4959... Val Loss: 1.5762\n",
      "Epoch: 7/20... Step: 940... Loss: 1.5042... Val Loss: 1.5710\n",
      "Epoch: 7/20... Step: 950... Loss: 1.5213... Val Loss: 1.5641\n",
      "Epoch: 7/20... Step: 960... Loss: 1.5055... Val Loss: 1.5624\n",
      "Epoch: 7/20... Step: 970... Loss: 1.5232... Val Loss: 1.5617\n",
      "Epoch: 8/20... Step: 980... Loss: 1.4928... Val Loss: 1.5558\n",
      "Epoch: 8/20... Step: 990... Loss: 1.4854... Val Loss: 1.5512\n",
      "Epoch: 8/20... Step: 1000... Loss: 1.4848... Val Loss: 1.5483\n",
      "Epoch: 8/20... Step: 1010... Loss: 1.5223... Val Loss: 1.5484\n",
      "Epoch: 8/20... Step: 1020... Loss: 1.4841... Val Loss: 1.5432\n",
      "Epoch: 8/20... Step: 1030... Loss: 1.4662... Val Loss: 1.5368\n",
      "Epoch: 8/20... Step: 1040... Loss: 1.4798... Val Loss: 1.5431\n",
      "Epoch: 8/20... Step: 1050... Loss: 1.4518... Val Loss: 1.5331\n",
      "Epoch: 8/20... Step: 1060... Loss: 1.4610... Val Loss: 1.5309\n",
      "Epoch: 8/20... Step: 1070... Loss: 1.4592... Val Loss: 1.5305\n",
      "Epoch: 8/20... Step: 1080... Loss: 1.4612... Val Loss: 1.5240\n",
      "Epoch: 8/20... Step: 1090... Loss: 1.4481... Val Loss: 1.5191\n",
      "Epoch: 8/20... Step: 1100... Loss: 1.4371... Val Loss: 1.5190\n",
      "Epoch: 8/20... Step: 1110... Loss: 1.4485... Val Loss: 1.5166\n",
      "Epoch: 9/20... Step: 1120... Loss: 1.4558... Val Loss: 1.5139\n",
      "Epoch: 9/20... Step: 1130... Loss: 1.4530... Val Loss: 1.5081\n",
      "Epoch: 9/20... Step: 1140... Loss: 1.4437... Val Loss: 1.5049\n",
      "Epoch: 9/20... Step: 1150... Loss: 1.4684... Val Loss: 1.5072\n",
      "Epoch: 9/20... Step: 1160... Loss: 1.4195... Val Loss: 1.5041\n",
      "Epoch: 9/20... Step: 1170... Loss: 1.4284... Val Loss: 1.4993\n",
      "Epoch: 9/20... Step: 1180... Loss: 1.4230... Val Loss: 1.5005\n",
      "Epoch: 9/20... Step: 1190... Loss: 1.4534... Val Loss: 1.4972\n",
      "Epoch: 9/20... Step: 1200... Loss: 1.4026... Val Loss: 1.4918\n",
      "Epoch: 9/20... Step: 1210... Loss: 1.4104... Val Loss: 1.4932\n",
      "Epoch: 9/20... Step: 1220... Loss: 1.4104... Val Loss: 1.4886\n",
      "Epoch: 9/20... Step: 1230... Loss: 1.3920... Val Loss: 1.4848\n",
      "Epoch: 9/20... Step: 1240... Loss: 1.4048... Val Loss: 1.4857\n",
      "Epoch: 9/20... Step: 1250... Loss: 1.4200... Val Loss: 1.4815\n",
      "Epoch: 10/20... Step: 1260... Loss: 1.4121... Val Loss: 1.4777\n",
      "Epoch: 10/20... Step: 1270... Loss: 1.3971... Val Loss: 1.4750\n",
      "Epoch: 10/20... Step: 1280... Loss: 1.4132... Val Loss: 1.4709\n",
      "Epoch: 10/20... Step: 1290... Loss: 1.4035... Val Loss: 1.4726\n",
      "Epoch: 10/20... Step: 1300... Loss: 1.3899... Val Loss: 1.4711\n",
      "Epoch: 10/20... Step: 1310... Loss: 1.3961... Val Loss: 1.4660\n",
      "Epoch: 10/20... Step: 1320... Loss: 1.3696... Val Loss: 1.4689\n",
      "Epoch: 10/20... Step: 1330... Loss: 1.3755... Val Loss: 1.4660\n",
      "Epoch: 10/20... Step: 1340... Loss: 1.3661... Val Loss: 1.4601\n"
     ]
    },
    {
     "name": "stdout",
     "output_type": "stream",
     "text": [
      "Epoch: 10/20... Step: 1350... Loss: 1.3608... Val Loss: 1.4593\n",
      "Epoch: 10/20... Step: 1360... Loss: 1.3643... Val Loss: 1.4596\n",
      "Epoch: 10/20... Step: 1370... Loss: 1.3546... Val Loss: 1.4558\n",
      "Epoch: 10/20... Step: 1380... Loss: 1.3822... Val Loss: 1.4580\n",
      "Epoch: 10/20... Step: 1390... Loss: 1.3541... Val Loss: 1.4535\n",
      "Epoch: 11/20... Step: 1400... Loss: 1.4003... Val Loss: 1.4489\n",
      "Epoch: 11/20... Step: 1410... Loss: 1.4002... Val Loss: 1.4494\n",
      "Epoch: 11/20... Step: 1420... Loss: 1.3934... Val Loss: 1.4447\n",
      "Epoch: 11/20... Step: 1430... Loss: 1.3704... Val Loss: 1.4462\n",
      "Epoch: 11/20... Step: 1440... Loss: 1.3827... Val Loss: 1.4479\n",
      "Epoch: 11/20... Step: 1450... Loss: 1.3204... Val Loss: 1.4413\n",
      "Epoch: 11/20... Step: 1460... Loss: 1.3437... Val Loss: 1.4408\n",
      "Epoch: 11/20... Step: 1470... Loss: 1.3331... Val Loss: 1.4413\n",
      "Epoch: 11/20... Step: 1480... Loss: 1.3602... Val Loss: 1.4341\n",
      "Epoch: 11/20... Step: 1490... Loss: 1.3512... Val Loss: 1.4362\n",
      "Epoch: 11/20... Step: 1500... Loss: 1.3343... Val Loss: 1.4367\n",
      "Epoch: 11/20... Step: 1510... Loss: 1.3214... Val Loss: 1.4326\n",
      "Epoch: 11/20... Step: 1520... Loss: 1.3463... Val Loss: 1.4323\n",
      "Epoch: 12/20... Step: 1530... Loss: 1.4123... Val Loss: 1.4302\n",
      "Epoch: 12/20... Step: 1540... Loss: 1.3612... Val Loss: 1.4292\n",
      "Epoch: 12/20... Step: 1550... Loss: 1.3599... Val Loss: 1.4263\n",
      "Epoch: 12/20... Step: 1560... Loss: 1.3606... Val Loss: 1.4232\n",
      "Epoch: 12/20... Step: 1570... Loss: 1.3241... Val Loss: 1.4245\n",
      "Epoch: 12/20... Step: 1580... Loss: 1.3043... Val Loss: 1.4254\n",
      "Epoch: 12/20... Step: 1590... Loss: 1.2931... Val Loss: 1.4219\n",
      "Epoch: 12/20... Step: 1600... Loss: 1.3081... Val Loss: 1.4222\n",
      "Epoch: 12/20... Step: 1610... Loss: 1.3153... Val Loss: 1.4196\n",
      "Epoch: 12/20... Step: 1620... Loss: 1.3167... Val Loss: 1.4150\n",
      "Epoch: 12/20... Step: 1630... Loss: 1.3441... Val Loss: 1.4162\n",
      "Epoch: 12/20... Step: 1640... Loss: 1.3162... Val Loss: 1.4205\n",
      "Epoch: 12/20... Step: 1650... Loss: 1.2807... Val Loss: 1.4183\n",
      "Epoch: 12/20... Step: 1660... Loss: 1.3437... Val Loss: 1.4171\n",
      "Epoch: 13/20... Step: 1670... Loss: 1.3216... Val Loss: 1.4121\n",
      "Epoch: 13/20... Step: 1680... Loss: 1.3180... Val Loss: 1.4098\n",
      "Epoch: 13/20... Step: 1690... Loss: 1.3095... Val Loss: 1.4081\n",
      "Epoch: 13/20... Step: 1700... Loss: 1.3049... Val Loss: 1.4028\n",
      "Epoch: 13/20... Step: 1710... Loss: 1.2797... Val Loss: 1.4062\n",
      "Epoch: 13/20... Step: 1720... Loss: 1.2903... Val Loss: 1.4063\n",
      "Epoch: 13/20... Step: 1730... Loss: 1.3265... Val Loss: 1.3995\n",
      "Epoch: 13/20... Step: 1740... Loss: 1.2962... Val Loss: 1.4042\n",
      "Epoch: 13/20... Step: 1750... Loss: 1.2709... Val Loss: 1.4022\n",
      "Epoch: 13/20... Step: 1760... Loss: 1.2945... Val Loss: 1.3972\n",
      "Epoch: 13/20... Step: 1770... Loss: 1.3053... Val Loss: 1.3967\n",
      "Epoch: 13/20... Step: 1780... Loss: 1.2768... Val Loss: 1.3976\n",
      "Epoch: 13/20... Step: 1790... Loss: 1.2758... Val Loss: 1.3935\n",
      "Epoch: 13/20... Step: 1800... Loss: 1.2975... Val Loss: 1.3928\n",
      "Epoch: 14/20... Step: 1810... Loss: 1.3083... Val Loss: 1.3911\n",
      "Epoch: 14/20... Step: 1820... Loss: 1.2770... Val Loss: 1.3888\n",
      "Epoch: 14/20... Step: 1830... Loss: 1.3008... Val Loss: 1.3915\n",
      "Epoch: 14/20... Step: 1840... Loss: 1.2422... Val Loss: 1.3855\n",
      "Epoch: 14/20... Step: 1850... Loss: 1.2346... Val Loss: 1.3928\n",
      "Epoch: 14/20... Step: 1860... Loss: 1.2877... Val Loss: 1.3856\n",
      "Epoch: 14/20... Step: 1870... Loss: 1.2980... Val Loss: 1.3852\n",
      "Epoch: 14/20... Step: 1880... Loss: 1.2734... Val Loss: 1.3873\n",
      "Epoch: 14/20... Step: 1890... Loss: 1.3062... Val Loss: 1.3858\n",
      "Epoch: 14/20... Step: 1900... Loss: 1.2839... Val Loss: 1.3790\n",
      "Epoch: 14/20... Step: 1910... Loss: 1.2734... Val Loss: 1.3747\n",
      "Epoch: 14/20... Step: 1920... Loss: 1.2720... Val Loss: 1.3786\n",
      "Epoch: 14/20... Step: 1930... Loss: 1.2391... Val Loss: 1.3777\n",
      "Epoch: 14/20... Step: 1940... Loss: 1.3002... Val Loss: 1.3706\n",
      "Epoch: 15/20... Step: 1950... Loss: 1.2717... Val Loss: 1.3745\n",
      "Epoch: 15/20... Step: 1960... Loss: 1.2661... Val Loss: 1.3716\n",
      "Epoch: 15/20... Step: 1970... Loss: 1.2580... Val Loss: 1.3713\n",
      "Epoch: 15/20... Step: 1980... Loss: 1.2472... Val Loss: 1.3695\n",
      "Epoch: 15/20... Step: 1990... Loss: 1.2541... Val Loss: 1.3757\n",
      "Epoch: 15/20... Step: 2000... Loss: 1.2394... Val Loss: 1.3739\n",
      "Epoch: 15/20... Step: 2010... Loss: 1.2538... Val Loss: 1.3674\n",
      "Epoch: 15/20... Step: 2020... Loss: 1.2691... Val Loss: 1.3726\n",
      "Epoch: 15/20... Step: 2030... Loss: 1.2420... Val Loss: 1.3652\n",
      "Epoch: 15/20... Step: 2040... Loss: 1.2482... Val Loss: 1.3686\n",
      "Epoch: 15/20... Step: 2050... Loss: 1.2476... Val Loss: 1.3661\n",
      "Epoch: 15/20... Step: 2060... Loss: 1.2542... Val Loss: 1.3636\n",
      "Epoch: 15/20... Step: 2070... Loss: 1.2518... Val Loss: 1.3626\n",
      "Epoch: 15/20... Step: 2080... Loss: 1.2463... Val Loss: 1.3600\n",
      "Epoch: 16/20... Step: 2090... Loss: 1.2598... Val Loss: 1.3651\n",
      "Epoch: 16/20... Step: 2100... Loss: 1.2515... Val Loss: 1.3626\n",
      "Epoch: 16/20... Step: 2110... Loss: 1.2354... Val Loss: 1.3618\n",
      "Epoch: 16/20... Step: 2120... Loss: 1.2467... Val Loss: 1.3594\n",
      "Epoch: 16/20... Step: 2130... Loss: 1.2228... Val Loss: 1.3618\n",
      "Epoch: 16/20... Step: 2140... Loss: 1.2342... Val Loss: 1.3557\n",
      "Epoch: 16/20... Step: 2150... Loss: 1.2603... Val Loss: 1.3608\n",
      "Epoch: 16/20... Step: 2160... Loss: 1.2426... Val Loss: 1.3582\n",
      "Epoch: 16/20... Step: 2170... Loss: 1.2305... Val Loss: 1.3588\n",
      "Epoch: 16/20... Step: 2180... Loss: 1.2147... Val Loss: 1.3536\n",
      "Epoch: 16/20... Step: 2190... Loss: 1.2496... Val Loss: 1.3532\n",
      "Epoch: 16/20... Step: 2200... Loss: 1.2247... Val Loss: 1.3572\n",
      "Epoch: 16/20... Step: 2210... Loss: 1.1956... Val Loss: 1.3488\n",
      "Epoch: 16/20... Step: 2220... Loss: 1.2292... Val Loss: 1.3467\n",
      "Epoch: 17/20... Step: 2230... Loss: 1.2192... Val Loss: 1.3530\n",
      "Epoch: 17/20... Step: 2240... Loss: 1.2214... Val Loss: 1.3570\n",
      "Epoch: 17/20... Step: 2250... Loss: 1.1982... Val Loss: 1.3468\n",
      "Epoch: 17/20... Step: 2260... Loss: 1.2221... Val Loss: 1.3525\n",
      "Epoch: 17/20... Step: 2270... Loss: 1.2291... Val Loss: 1.3497\n",
      "Epoch: 17/20... Step: 2280... Loss: 1.2242... Val Loss: 1.3459\n",
      "Epoch: 17/20... Step: 2290... Loss: 1.2321... Val Loss: 1.3473\n",
      "Epoch: 17/20... Step: 2300... Loss: 1.1891... Val Loss: 1.3463\n",
      "Epoch: 17/20... Step: 2310... Loss: 1.2146... Val Loss: 1.3458\n",
      "Epoch: 17/20... Step: 2320... Loss: 1.2091... Val Loss: 1.3480\n",
      "Epoch: 17/20... Step: 2330... Loss: 1.2079... Val Loss: 1.3465\n",
      "Epoch: 17/20... Step: 2340... Loss: 1.2241... Val Loss: 1.3438\n",
      "Epoch: 17/20... Step: 2350... Loss: 1.2162... Val Loss: 1.3426\n",
      "Epoch: 17/20... Step: 2360... Loss: 1.2286... Val Loss: 1.3449\n",
      "Epoch: 18/20... Step: 2370... Loss: 1.2025... Val Loss: 1.3446\n",
      "Epoch: 18/20... Step: 2380... Loss: 1.2068... Val Loss: 1.3450\n",
      "Epoch: 18/20... Step: 2390... Loss: 1.2116... Val Loss: 1.3400\n",
      "Epoch: 18/20... Step: 2400... Loss: 1.2376... Val Loss: 1.3413\n",
      "Epoch: 18/20... Step: 2410... Loss: 1.2316... Val Loss: 1.3408\n",
      "Epoch: 18/20... Step: 2420... Loss: 1.2061... Val Loss: 1.3350\n",
      "Epoch: 18/20... Step: 2430... Loss: 1.2140... Val Loss: 1.3364\n",
      "Epoch: 18/20... Step: 2440... Loss: 1.1927... Val Loss: 1.3375\n",
      "Epoch: 18/20... Step: 2450... Loss: 1.1958... Val Loss: 1.3398\n",
      "Epoch: 18/20... Step: 2460... Loss: 1.2112... Val Loss: 1.3407\n",
      "Epoch: 18/20... Step: 2470... Loss: 1.1987... Val Loss: 1.3392\n",
      "Epoch: 18/20... Step: 2480... Loss: 1.1963... Val Loss: 1.3378\n",
      "Epoch: 18/20... Step: 2490... Loss: 1.1870... Val Loss: 1.3354\n",
      "Epoch: 18/20... Step: 2500... Loss: 1.1992... Val Loss: 1.3345\n",
      "Epoch: 19/20... Step: 2510... Loss: 1.1972... Val Loss: 1.3349\n",
      "Epoch: 19/20... Step: 2520... Loss: 1.2079... Val Loss: 1.3350\n",
      "Epoch: 19/20... Step: 2530... Loss: 1.2073... Val Loss: 1.3329\n",
      "Epoch: 19/20... Step: 2540... Loss: 1.2330... Val Loss: 1.3383\n",
      "Epoch: 19/20... Step: 2550... Loss: 1.1938... Val Loss: 1.3405\n",
      "Epoch: 19/20... Step: 2560... Loss: 1.1995... Val Loss: 1.3312\n",
      "Epoch: 19/20... Step: 2570... Loss: 1.1820... Val Loss: 1.3296\n",
      "Epoch: 19/20... Step: 2580... Loss: 1.2272... Val Loss: 1.3328\n",
      "Epoch: 19/20... Step: 2590... Loss: 1.1792... Val Loss: 1.3312\n",
      "Epoch: 19/20... Step: 2600... Loss: 1.1796... Val Loss: 1.3325\n",
      "Epoch: 19/20... Step: 2610... Loss: 1.1818... Val Loss: 1.3329\n",
      "Epoch: 19/20... Step: 2620... Loss: 1.1718... Val Loss: 1.3299\n",
      "Epoch: 19/20... Step: 2630... Loss: 1.1723... Val Loss: 1.3286\n",
      "Epoch: 19/20... Step: 2640... Loss: 1.1959... Val Loss: 1.3266\n",
      "Epoch: 20/20... Step: 2650... Loss: 1.1911... Val Loss: 1.3305\n"
     ]
    },
    {
     "name": "stdout",
     "output_type": "stream",
     "text": [
      "Epoch: 20/20... Step: 2660... Loss: 1.1891... Val Loss: 1.3302\n",
      "Epoch: 20/20... Step: 2670... Loss: 1.2042... Val Loss: 1.3317\n",
      "Epoch: 20/20... Step: 2680... Loss: 1.1907... Val Loss: 1.3326\n",
      "Epoch: 20/20... Step: 2690... Loss: 1.1885... Val Loss: 1.3287\n",
      "Epoch: 20/20... Step: 2700... Loss: 1.1804... Val Loss: 1.3252\n",
      "Epoch: 20/20... Step: 2710... Loss: 1.1676... Val Loss: 1.3234\n",
      "Epoch: 20/20... Step: 2720... Loss: 1.1586... Val Loss: 1.3328\n",
      "Epoch: 20/20... Step: 2730... Loss: 1.1650... Val Loss: 1.3224\n",
      "Epoch: 20/20... Step: 2740... Loss: 1.1527... Val Loss: 1.3244\n",
      "Epoch: 20/20... Step: 2750... Loss: 1.1659... Val Loss: 1.3275\n",
      "Epoch: 20/20... Step: 2760... Loss: 1.1535... Val Loss: 1.3225\n",
      "Epoch: 20/20... Step: 2770... Loss: 1.1872... Val Loss: 1.3253\n",
      "Epoch: 20/20... Step: 2780... Loss: 1.1631... Val Loss: 1.3217\n"
     ]
    }
   ],
   "source": [
    "batch_size = 128\n",
    "seq_length = 100\n",
    "n_epochs =  20# start small if you are just testing initial behavior\n",
    "\n",
    "# train the model\n",
    "train(net, encoded, epochs=n_epochs, batch_size=batch_size, seq_length=seq_length, lr=0.001, print_every=10)"
   ]
  },
  {
   "cell_type": "markdown",
   "metadata": {},
   "source": [
    "## Getting the best model\n",
    "\n",
    "To set your hyperparameters to get the best performance, you'll want to watch the training and validation losses. If your training loss is much lower than the validation loss, you're overfitting. Increase regularization (more dropout) or use a smaller network. If the training and validation losses are close, you're underfitting so you can increase the size of the network."
   ]
  },
  {
   "cell_type": "markdown",
   "metadata": {},
   "source": [
    "## Hyperparameters\n",
    "\n",
    "Here are the hyperparameters for the network.\n",
    "\n",
    "In defining the model:\n",
    "* `n_hidden` - The number of units in the hidden layers.\n",
    "* `n_layers` - Number of hidden LSTM layers to use.\n",
    "\n",
    "We assume that dropout probability and learning rate will be kept at the default, in this example.\n",
    "\n",
    "And in training:\n",
    "* `batch_size` - Number of sequences running through the network in one pass.\n",
    "* `seq_length` - Number of characters in the sequence the network is trained on. Larger is better typically, the network will learn more long range dependencies. But it takes longer to train. 100 is typically a good number here.\n",
    "* `lr` - Learning rate for training\n",
    "\n",
    "Here's some good advice from Andrej Karpathy on training the network. I'm going to copy it in here for your benefit, but also link to [where it originally came from](https://github.com/karpathy/char-rnn#tips-and-tricks).\n",
    "\n",
    "> ## Tips and Tricks\n",
    "\n",
    ">### Monitoring Validation Loss vs. Training Loss\n",
    ">If you're somewhat new to Machine Learning or Neural Networks it can take a bit of expertise to get good models. The most important quantity to keep track of is the difference between your training loss (printed during training) and the validation loss (printed once in a while when the RNN is run on the validation data (by default every 1000 iterations)). In particular:\n",
    "\n",
    "> - If your training loss is much lower than validation loss then this means the network might be **overfitting**. Solutions to this are to decrease your network size, or to increase dropout. For example you could try dropout of 0.5 and so on.\n",
    "> - If your training/validation loss are about equal then your model is **underfitting**. Increase the size of your model (either number of layers or the raw number of neurons per layer)\n",
    "\n",
    "> ### Approximate number of parameters\n",
    "\n",
    "> The two most important parameters that control the model are `n_hidden` and `n_layers`. I would advise that you always use `n_layers` of either 2/3. The `n_hidden` can be adjusted based on how much data you have. The two important quantities to keep track of here are:\n",
    "\n",
    "> - The number of parameters in your model. This is printed when you start training.\n",
    "> - The size of your dataset. 1MB file is approximately 1 million characters.\n",
    "\n",
    ">These two should be about the same order of magnitude. It's a little tricky to tell. Here are some examples:\n",
    "\n",
    "> - I have a 100MB dataset and I'm using the default parameter settings (which currently print 150K parameters). My data size is significantly larger (100 mil >> 0.15 mil), so I expect to heavily underfit. I am thinking I can comfortably afford to make `n_hidden` larger.\n",
    "> - I have a 10MB dataset and running a 10 million parameter model. I'm slightly nervous and I'm carefully monitoring my validation loss. If it's larger than my training loss then I may want to try to increase dropout a bit and see if that helps the validation loss.\n",
    "\n",
    "> ### Best models strategy\n",
    "\n",
    ">The winning strategy to obtaining very good models (if you have the compute time) is to always err on making the network larger (as large as you're willing to wait for it to compute) and then try different dropout values (between 0,1). Whatever model has the best validation performance (the loss, written in the checkpoint filename, low is good) is the one you should use in the end.\n",
    "\n",
    ">It is very common in deep learning to run many different models with many different hyperparameter settings, and in the end take whatever checkpoint gave the best validation performance.\n",
    "\n",
    ">By the way, the size of your training and validation splits are also parameters. Make sure you have a decent amount of data in your validation set or otherwise the validation performance will be noisy and not very informative."
   ]
  },
  {
   "cell_type": "markdown",
   "metadata": {},
   "source": [
    "## Checkpoint\n",
    "\n",
    "After training, we'll save the model so we can load it again later if we need too. Here I'm saving the parameters needed to create the same architecture, the hidden layer hyperparameters and the text characters."
   ]
  },
  {
   "cell_type": "code",
   "execution_count": 39,
   "metadata": {},
   "outputs": [],
   "source": [
    "# change the name, for saving multiple files\n",
    "model_name = 'rnn_x_epoch.net'\n",
    "\n",
    "checkpoint = {'n_hidden': net.n_hidden,\n",
    "              'n_layers': net.n_layers,\n",
    "              'state_dict': net.state_dict(),\n",
    "              'tokens': net.chars}\n",
    "\n",
    "with open(model_name, 'wb') as f:\n",
    "    torch.save(checkpoint, f)"
   ]
  },
  {
   "cell_type": "markdown",
   "metadata": {},
   "source": [
    "---\n",
    "## Making Predictions\n",
    "\n",
    "Now that the model is trained, we'll want to sample from it and make predictions about next characters! To sample, we pass in a character and have the network predict the next character. Then we take that character, pass it back in, and get another predicted character. Just keep doing this and you'll generate a bunch of text!\n",
    "\n",
    "### A note on the `predict`  function\n",
    "\n",
    "The output of our RNN is from a fully-connected layer and it outputs a **distribution of next-character scores**.\n",
    "\n",
    "> To actually get the next character, we apply a softmax function, which gives us a *probability* distribution that we can then sample to predict the next character.\n",
    "\n",
    "### Top K sampling\n",
    "\n",
    "Our predictions come from a categorical probability distribution over all the possible characters. We can make the sample text and make it more reasonable to handle (with less variables) by only considering some $K$ most probable characters. This will prevent the network from giving us completely absurd characters while allowing it to introduce some noise and randomness into the sampled text. Read more about [topk, here](https://pytorch.org/docs/stable/torch.html#torch.topk).\n"
   ]
  },
  {
   "cell_type": "code",
   "execution_count": 40,
   "metadata": {},
   "outputs": [],
   "source": [
    "def predict(net, char, h=None, top_k=None):\n",
    "        ''' Given a character, predict the next character.\n",
    "            Returns the predicted character and the hidden state.\n",
    "        '''\n",
    "        \n",
    "        # tensor inputs\n",
    "        x = np.array([[net.char2int[char]]])\n",
    "        x = one_hot_encode(x, len(net.chars))\n",
    "        inputs = torch.from_numpy(x)\n",
    "        \n",
    "        if(train_on_gpu):\n",
    "            inputs = inputs.cuda()\n",
    "        \n",
    "        # detach hidden state from history\n",
    "        h = tuple([each.data for each in h])\n",
    "        # get the output of the model\n",
    "        out, h = net(inputs, h)\n",
    "\n",
    "        # get the character probabilities\n",
    "        p = F.softmax(out, dim=1).data\n",
    "        if(train_on_gpu):\n",
    "            p = p.cpu() # move to cpu\n",
    "        \n",
    "        # get top characters\n",
    "        if top_k is None:\n",
    "            top_ch = np.arange(len(net.chars))\n",
    "        else:\n",
    "            p, top_ch = p.topk(top_k)\n",
    "            top_ch = top_ch.numpy().squeeze()\n",
    "        \n",
    "        # select the likely next character with some element of randomness\n",
    "        p = p.numpy().squeeze()\n",
    "        char = np.random.choice(top_ch, p=p/p.sum())\n",
    "        \n",
    "        # return the encoded value of the predicted char and the hidden state\n",
    "        return net.int2char[char], h"
   ]
  },
  {
   "cell_type": "markdown",
   "metadata": {},
   "source": [
    "### Priming and generating text \n",
    "\n",
    "Typically you'll want to prime the network so you can build up a hidden state. Otherwise the network will start out generating characters at random. In general the first bunch of characters will be a little rough since it hasn't built up a long history of characters to predict from."
   ]
  },
  {
   "cell_type": "code",
   "execution_count": 41,
   "metadata": {},
   "outputs": [],
   "source": [
    "def sample(net, size, prime='The', top_k=None):\n",
    "        \n",
    "    if(train_on_gpu):\n",
    "        net.cuda()\n",
    "    else:\n",
    "        net.cpu()\n",
    "    \n",
    "    net.eval() # eval mode\n",
    "    \n",
    "    # First off, run through the prime characters\n",
    "    chars = [ch for ch in prime]\n",
    "    h = net.init_hidden(1)\n",
    "    for ch in prime:\n",
    "        char, h = predict(net, ch, h, top_k=top_k)\n",
    "\n",
    "    chars.append(char)\n",
    "    \n",
    "    # Now pass in the previous character and get a new one\n",
    "    for ii in range(size):\n",
    "        char, h = predict(net, chars[-1], h, top_k=top_k)\n",
    "        chars.append(char)\n",
    "\n",
    "    return ''.join(chars)"
   ]
  },
  {
   "cell_type": "code",
   "execution_count": 42,
   "metadata": {},
   "outputs": [
    {
     "name": "stdout",
     "output_type": "stream",
     "text": [
      "Anna had not\n",
      "seen a sort of this face.\" And he could not be a child, and the conversation\n",
      "was sitting in society, and the sight of the most district thriviariess were standing\n",
      "and he had been strengthening, and he would have some conversation of\n",
      "her faces.\n",
      "\n",
      "The profuts he had not he started at the marshal. Besides the manistress to talk\n",
      "of the countess, she went up, and he headd her head, as\n",
      "though this invited the old prince.\n",
      "\n",
      "\"Yes, you can't think it's to be thinting, but when I'm to\n",
      "see you, I am not to do.\"\n",
      "\n",
      "\"You wanted to be marvilies,\" said Stepan Arkadyevitch, like a hands with some\n",
      "sister with her soul. \"It's a long weilence to stay a man such indeed in myself and\n",
      "comes of a calturable cross, where I can be so much to definith,\" he said,\n",
      "smiling.\n",
      "\n",
      "\"Then you won't could see a man when I have sent him to him, and\n",
      "will a mistake of her husband, happening....\"\n",
      "\n",
      "\"I have no seen? You know to meet your secret minutes, and I had a dress\n",
      "of pattom,\" the colone lay there all husband was that \n"
     ]
    }
   ],
   "source": [
    "print(sample(net, 1000, prime='Anna', top_k=5))"
   ]
  },
  {
   "cell_type": "markdown",
   "metadata": {},
   "source": [
    "## Loading a checkpoint"
   ]
  },
  {
   "cell_type": "code",
   "execution_count": 43,
   "metadata": {},
   "outputs": [
    {
     "data": {
      "text/plain": [
       "<All keys matched successfully>"
      ]
     },
     "execution_count": 43,
     "metadata": {},
     "output_type": "execute_result"
    }
   ],
   "source": [
    "# Here we have loaded in a model that trained over 20 epochs `rnn_20_epoch.net`\n",
    "with open('rnn_x_epoch.net', 'rb') as f:\n",
    "    checkpoint = torch.load(f)\n",
    "    \n",
    "loaded = CharRNN(checkpoint['tokens'], n_hidden=checkpoint['n_hidden'], n_layers=checkpoint['n_layers'])\n",
    "loaded.load_state_dict(checkpoint['state_dict'])"
   ]
  },
  {
   "cell_type": "code",
   "execution_count": 44,
   "metadata": {},
   "outputs": [
    {
     "name": "stdout",
     "output_type": "stream",
     "text": [
      "And Levin said\n",
      "to himself, had noticed that the countess was so much to help in his\n",
      "eyes, but it was now a sort in this work till this thoughts at all sides\n",
      "that she could not see it. They was the money. The minutes he\n",
      "constunded himself at the same time so hope he was the consection which\n",
      "came into the party from the sense of the story of the processors. The\n",
      "sick might had been seen a control that she was ashamed as\n",
      "it would have heard. And it shaded an end of his hand and ashed her husband, a brilliant\n",
      "smile, stopped, was so tried to see what he had been at the\n",
      "first times the same there was the cause of this mind the\n",
      "price against him in itself. He saw this that was not to break\n",
      "of him. He felt his heart and her hat a prople did not stay a panished\n",
      "attention for him, and the princess talked over the chief to the\n",
      "letter, and had not her humores with a smile at least, a contance the most\n",
      "comitales, turned at the stemp, had taken a chair to change his face.\n",
      "\n",
      "\"Well, that's a shall for her sister's song and her son and I'll be\n",
      "a chook that is such a growenden peasants.\"\n",
      "\n",
      "\"Yes, yes,\" said Anna and happined, which they went up to the countess.\n",
      "\n",
      "\"I can't say a poor till that yesterday and twistic and the court to\n",
      "be myself.... I saying!\" she said, and she had tried to talk of all them all\n",
      "the shame again, \"that is that she was in the chalk. In the\n",
      "celebrated drinkings will be a decision, however harmons to the court him, that\n",
      "will be so in across the sich movements is the condition. It's not their\n",
      "foresents.\"\n",
      "\n",
      "\"Oh, that's that! How is your lufue petty work?\" he said to\n",
      "her and whet still moved out the paper.\n",
      "\n",
      "\"Yes, it's a supper the same,\" he said, looking at the sun. \"Yournelf is shallfused in tea\n",
      "his self-penstation in the such clover in the suppost of the\n",
      "courtess's singer where's a minute,\" the conversatsay and the committee said this\n",
      "he had not so much a serious secret he was saying, and some sort of a words had\n",
      "been such as too, andwerd, whom the conversation had called his\n",
      "mosty\n"
     ]
    }
   ],
   "source": [
    "# Sample using a loaded model\n",
    "print(sample(loaded, 2000, top_k=5, prime=\"And Levin said\"))"
   ]
  },
  {
   "cell_type": "code",
   "execution_count": null,
   "metadata": {
    "collapsed": true
   },
   "outputs": [],
   "source": []
  }
 ],
 "metadata": {
  "kernelspec": {
   "display_name": "Python 3",
   "language": "python",
   "name": "python3"
  },
  "language_info": {
   "codemirror_mode": {
    "name": "ipython",
    "version": 3
   },
   "file_extension": ".py",
   "mimetype": "text/x-python",
   "name": "python",
   "nbconvert_exporter": "python",
   "pygments_lexer": "ipython3",
   "version": "3.8.1"
  }
 },
 "nbformat": 4,
 "nbformat_minor": 2
}
